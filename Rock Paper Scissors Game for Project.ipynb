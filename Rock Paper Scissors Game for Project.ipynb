{
 "cells": [
  {
   "cell_type": "markdown",
   "id": "3c9f6532",
   "metadata": {},
   "source": [
    "# Rock, Paper, Scissors, the Game in Python - Connor Goodman"
   ]
  },
  {
   "cell_type": "code",
   "execution_count": 8,
   "id": "a7f8e73b",
   "metadata": {},
   "outputs": [
    {
     "name": "stdout",
     "output_type": "stream",
     "text": [
      "Do you want rock, paper, or scissors? rock\n",
      "\n",
      "You chose rock, we chose scissors.\n",
      "\n",
      "Rock beats scissors, You win!\n"
     ]
    }
   ],
   "source": [
    "import random\n",
    "\n",
    "user_choice = input(\"Do you want rock, paper, or scissors? \")\n",
    "\n",
    "possible_actions = [\"rock\", \"paper\", \"scissors\"]\n",
    "\n",
    "computer_choice = random.choice(possible_actions)\n",
    "\n",
    "print(f\"\\nYou chose {user_choice}, we chose {computer_choice}.\\n\")\n",
    "\n",
    "if user_choice == computer_choice:\n",
    "    \n",
    "    print(f\"Both sides selected {user_choice}. Tie!\")\n",
    "    \n",
    "elif user_choice == \"rock\":\n",
    "    \n",
    "    if computer_choice == \"scissors\":\n",
    "        \n",
    "        print(\"Rock beats scissors, You win!\")\n",
    "        \n",
    "    else:\n",
    "        print(\"Paper beats rock, You lose.\")\n",
    "        \n",
    "elif user_choice == \"paper\":\n",
    "    \n",
    "    if computer_choice == \"rock\":\n",
    "        \n",
    "        print(\"Paper beats rock, You win!\")\n",
    "        \n",
    "    else:\n",
    "        \n",
    "        print(\"Scissors beats paper, You lose.\")\n",
    "        \n",
    "elif user_choice == \"scissors\":\n",
    "    \n",
    "    if computer_choice == \"paper\":\n",
    "        \n",
    "        print(\"Scissors beats paper, You win!\")\n",
    "        \n",
    "    else:\n",
    "        print(\"Rock beats scissors, You lose.\")"
   ]
  }
 ],
 "metadata": {
  "kernelspec": {
   "display_name": "Python 3",
   "language": "python",
   "name": "python3"
  },
  "language_info": {
   "codemirror_mode": {
    "name": "ipython",
    "version": 3
   },
   "file_extension": ".py",
   "mimetype": "text/x-python",
   "name": "python",
   "nbconvert_exporter": "python",
   "pygments_lexer": "ipython3",
   "version": "3.8.8"
  }
 },
 "nbformat": 4,
 "nbformat_minor": 5
}
